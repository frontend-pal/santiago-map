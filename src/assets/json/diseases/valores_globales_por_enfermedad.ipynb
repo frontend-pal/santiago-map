{
 "cells": [
  {
   "cell_type": "markdown",
   "id": "c18e49bd",
   "metadata": {},
   "source": [
    "## Este script genera un archivo json para los valores globales de las enfermedades"
   ]
  },
  {
   "cell_type": "code",
   "execution_count": 2,
   "id": "0d51e569",
   "metadata": {},
   "outputs": [],
   "source": [
    "import numpy as np\n",
    "import pandas as pd\n",
    "import json"
   ]
  },
  {
   "cell_type": "code",
   "execution_count": 3,
   "id": "1b9c2171",
   "metadata": {},
   "outputs": [],
   "source": [
    "table1 = pd.read_excel('valores_por_enfermedad.xlsx',converters={'DPTOMPIO': str})"
   ]
  },
  {
   "cell_type": "code",
   "execution_count": null,
   "id": "59b63df2",
   "metadata": {},
   "outputs": [],
   "source": [
    "\n",
    "          \n",
    "          \n",
    "          \n",
    "    #df.to_excel(f\"{elem}_Circovirosis_prob_y_niveles.xlsx\")  \n",
    "    table1.to_json(f\"{elem}_Circovirosis_prob_y_niveles.json\", orient=\"records\", force_ascii=False)\n",
    "       \n",
    "    \n",
    "   \n",
    "   \n",
    "    "
   ]
  }
 ],
 "metadata": {
  "kernelspec": {
   "display_name": "Python 3 (ipykernel)",
   "language": "python",
   "name": "python3"
  },
  "language_info": {
   "codemirror_mode": {
    "name": "ipython",
    "version": 3
   },
   "file_extension": ".py",
   "mimetype": "text/x-python",
   "name": "python",
   "nbconvert_exporter": "python",
   "pygments_lexer": "ipython3",
   "version": "3.9.12"
  }
 },
 "nbformat": 4,
 "nbformat_minor": 5
}
