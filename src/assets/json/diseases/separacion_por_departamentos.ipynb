{
 "cells": [
  {
   "cell_type": "code",
   "execution_count": 3,
   "id": "8626b8bb",
   "metadata": {},
   "outputs": [],
   "source": [
    "import numpy as np\n",
    "import pandas as pd\n",
    "import json"
   ]
  },
  {
   "cell_type": "markdown",
   "id": "d8377dbe",
   "metadata": {},
   "source": [
    "# El objetivo del Script es armar 33 tablas. Una por cada depto. "
   ]
  },
  {
   "cell_type": "markdown",
   "id": "459f3fe5",
   "metadata": {},
   "source": [
    "## 1. Leemos la tabla de excel con la enfermedad y nos aseguramos que el codigo de municpio sea str.\n"
   ]
  },
  {
   "cell_type": "code",
   "execution_count": 4,
   "id": "0e139bd5",
   "metadata": {},
   "outputs": [],
   "source": [
    "table1 = pd.read_excel('Circovirosis_prob_y_niveles.xlsx',converters={'DPTOMPIO': str})"
   ]
  },
  {
   "cell_type": "code",
   "execution_count": 22,
   "id": "d3772141",
   "metadata": {
    "scrolled": true
   },
   "outputs": [],
   "source": [
    "lista_sin_tildes = ['NOM_DEP', 'DPTOMPIO', 'NOMB_MPIO', 'Prob_Cat_Bioseguridad', 'Nvl_Cat_Bioseguridad', 'Prob_Cat_Bioseguridad_medianMUN', 'Prob_Cat_Bioseguridad_medianDEP', 'Prob_Cat_Entorno_Biofisico_Ambiental', 'Nvl_Cat_Entorno_Biofisico_Ambiental', 'Prob_Cat_Entorno_Biofisico_Ambiental_medianMUN', 'Prob_Cat_Entorno_Biofisico_Ambiental_medianDEP', 'Prob_Cat_Entorno_Socioeconomico', 'Nvl_Cat_Entorno_Socioeconomico', 'Prob_Cat_Entorno_Socioeconomico_medianMUN', 'Prob_Cat_Entorno_Socioeconomico_medianDEP', 'Prob_Cat_Espacio_Biofisico', 'Nvl_Cat_Espacio_Biofisico', 'Prob_Cat_Espacio_Biofisico_medianMUN', 'Prob_Cat_Espacio_Biofisico_medianDEP', 'Prob_Cat_Manejo_Sanitario', 'Nvl_Cat_Manejo_Sanitario', 'Prob_Cat_Manejo_Sanitario_medianMUN', 'Prob_Cat_Manejo_Sanitario_medianDEP', 'Prob_Cat_Movilizacion', 'Nvl_Cat_Movilizacion', 'Prob_Cat_Movilizacion_medianMUN', 'Prob_Cat_Movilizacion_medianDEP', 'Prob_Cat_Proceso_Productivo', 'Nvl_Cat_Proceso_Productivo', 'Prob_Cat_Proceso_Productivo_medianMUN', 'Prob_Cat_Proceso_Productivo_medianDEP', 'Prob_Cat_AMENAZA', 'Nvl_Cat_AMENAZA', 'Prob_Cat_AMENAZA_medianMUN', 'Prob_Cat_AMENAZA_medianDEP', 'Prob_Cat_VULNERABILIDAD', 'Nvl_Cat_VULNERABILIDAD', 'Prob_Cat_VULNERABILIDAD_medianMUN', 'Prob_Cat_VULNERABILIDAD_medianDEP', 'Prob_Riesgo_especifico', 'Nvl_Riesgo_especifico', 'Prob_Riesgo_especifico_medianMUN', 'Prob_Riesgo_especifico_medianDEP', 'Prob_FacRiesgo_infra_y_uso_intalaciones', 'Nvl_FacRiesgo_infra_y_uso_intalaciones', 'Prob_FacRiesgo_infra_y_uso_intalaciones_medianMUN', 'Prob_FacRiesgo_infra_y_uso_intalaciones_medianDEP', 'Prob_FacRiesgo_Manejo_muertos', 'Nvl_FacRiesgo_Manejo_muertos', 'Prob_FacRiesgo_Manejo_muertos_medianMUN', 'Prob_FacRiesgo_Manejo_muertos_medianDEP', 'Prob_FacRiesgo_Presen_OtrasEspecie', 'Nvl_FacRiesgo_Presen_OtrasEspecie', 'Prob_FacRiesgo_Presen_OtrasEspecie_medianMUN', 'Prob_FacRiesgo_Presen_OtrasEspecie_medianDEP', 'Prob_FacRiesgo_Contac_IndirecPerson', 'Nvl_FacRiesgo_Contac_IndirecPerson', 'Prob_FacRiesgo_Contac_IndirecPerson_medianMUN', 'Prob_FacRiesgo_Contac_IndirecPerson_medianDEP', 'Prob_FacRiesgo_Tipo_de_alimentacion', 'Nvl_FacRiesgo_Tipo_de_alimentacion', 'Prob_FacRiesgo_Tipo_de_alimentacion_medianMUN', 'Prob_FacRiesgo_Tipo_de_alimentacion_medianDEP', 'Prob_FacRiesgo_Manejo_Reprod', 'Nvl_FacRiesgo_Manejo_Reprod', 'Prob_FacRiesgo_Manejo_Reprod_medianMUN', 'Prob_FacRiesgo_Manejo_Reprod_medianDEP', 'Prob_FacRiesgo_Presen_Asilvestrados', 'Nvl_FacRiesgo_Presen_Asilvestrados', 'Prob_FacRiesgo_Presen_Asilvestrados_medianMUN', 'Prob_FacRiesgo_Presen_Asilvestrados_medianDEP', 'Prob_FacRiesgo_Susceptibilidad_al_contagio_por_proximidad_a_humedales,_aves_migratorias_y_granjas_avicolas', 'Nvl_FacRiesgo_Susceptibilidad_al_contagio_por_proximidad_a_humedales,_aves_migratorias_y_granjas_avicolas', 'Prob_FacRiesgo_Susceptibilidad_al_contagio_por_proximidad_a_humedales,_aves_migratorias_y_granjas_avicolas_medianMUN', 'Prob_FacRiesgo_Susceptibilidad_al_contagio_por_proximidad_a_humedales,_aves_migratorias_y_granjas_avicolas_medianDEP', 'Prob_FacRiesgo_Contacto_con_agua_contaminada', 'Nvl_FacRiesgo_Contacto_con_agua_contaminada', 'Prob_FacRiesgo_Contacto_con_agua_contaminada_medianMUN', 'Prob_FacRiesgo_Contacto_con_agua_contaminada_medianDEP', 'Prob_FacRiesgo_Densidad_poblacional_de_la_produccion_potencial_en_las_granjas_porcinas', 'Nvl_FacRiesgo_Densidad_poblacional_de_la_produccion_potencial_en_las_granjas_porcinas', 'Prob_FacRiesgo_Densidad_poblacional_de_la_produccion_potencial_en_las_granjas_porcinas_medianMUN', 'Prob_FacRiesgo_Densidad_poblacional_de_la_produccion_potencial_en_las_granjas_porcinas_medianDEP', 'Prob_FacRiesgo_Ingr_Porci', 'Nvl_FacRiesgo_Ingr_Porci', 'Prob_FacRiesgo_Ingr_Porci_medianMUN', 'Prob_FacRiesgo_Ingr_Porci_medianDEP', 'Prob_FacRiesgo_Zonas_epidemiologicas', 'Nvl_FacRiesgo_Zonas_epidemiologicas', 'Prob_FacRiesgo_Zonas_epidemiologicas_medianMUN', 'Prob_FacRiesgo_Zonas_epidemiologicas_medianDEP', 'Prob_FacRiesgo_Cultura_frente_al_Diagnostico', 'Nvl_FacRiesgo_Cultura_frente_al_Diagnostico', 'Prob_FacRiesgo_Cultura_frente_al_Diagnostico_medianMUN', 'Prob_FacRiesgo_Cultura_frente_al_Diagnostico_medianDEP', 'Prob_FacRiesgo_Capacitacion_en_salud_y_sanidad', 'Nvl_FacRiesgo_Capacitacion_en_salud_y_sanidad', 'Prob_FacRiesgo_Capacitacion_en_salud_y_sanidad_medianMUN', 'Prob_FacRiesgo_Capacitacion_en_salud_y_sanidad_medianDEP', 'Prob_FacRiesgo_Mov_Internacional_pers', 'Nvl_FacRiesgo_Mov_Internacional_pers', 'Prob_FacRiesgo_Mov_Internacional_pers_medianMUN', 'Prob_FacRiesgo_Mov_Internacional_pers_medianDEP', 'Prob_FacRiesgo_Densidad_de_granjas_porcinas_en_el_territorio', 'Nvl_FacRiesgo_Densidad_de_granjas_porcinas_en_el_territorio', 'Prob_FacRiesgo_Densidad_de_granjas_porcinas_en_el_territorio_medianMUN', 'Prob_FacRiesgo_Densidad_de_granjas_porcinas_en_el_territorio_medianDEP', 'Prob_FacRiesgo_Cerc_Ferias_comerciales', 'Nvl_FacRiesgo_Cerc_Ferias_comerciales', 'Prob_FacRiesgo_Cerc_Ferias_comerciales_medianMUN', 'Prob_FacRiesgo_Cerc_Ferias_comerciales_medianDEP', 'Prob_FacRiesgo_Cerc_Plantas_de_beneficio', 'Nvl_FacRiesgo_Cerc_Plantas_de_beneficio', 'Prob_FacRiesgo_Cerc_Plantas_de_beneficio_medianMUN', 'Prob_FacRiesgo_Cerc_Plantas_de_beneficio_medianDEP', 'Prob_FacRiesgo_Cerc_a_basureros', 'Nvl_FacRiesgo_Cerc_a_basureros', 'Prob_FacRiesgo_Cerc_a_basureros_medianMUN', 'Prob_FacRiesgo_Cerc_a_basureros_medianDEP', 'Prob_FacRiesgo_Cerc_a_vias', 'Nvl_FacRiesgo_Cerc_a_vias', 'Prob_FacRiesgo_Cerc_a_vias_medianMUN', 'Prob_FacRiesgo_Cerc_a_vias_medianDEP', 'Prob_FacRiesgo_Cerc_a_fronteras', 'Nvl_FacRiesgo_Cerc_a_fronteras', 'Prob_FacRiesgo_Cerc_a_fronteras_medianMUN', 'Prob_FacRiesgo_Cerc_a_fronteras_medianDEP', 'Prob_FacRiesgo_Cerc_Procesadoras_de_productos_carnicos', 'Nvl_FacRiesgo_Cerc_Procesadoras_de_productos_carnicos', 'Prob_FacRiesgo_Cerc_Procesadoras_de_productos_carnicos_medianMUN', 'Prob_FacRiesgo_Cerc_Procesadoras_de_productos_carnicos_medianDEP', 'Prob_FacRiesgo_Cerc_Centros_poblados', 'Nvl_FacRiesgo_Cerc_Centros_poblados', 'Prob_FacRiesgo_Cerc_Centros_poblados_medianMUN', 'Prob_FacRiesgo_Cerc_Centros_poblados_medianDEP', 'Prob_FacRiesgo_Cerc_a_puertos', 'Nvl_FacRiesgo_Cerc_a_puertos', 'Prob_FacRiesgo_Cerc_a_puertos_medianMUN', 'Prob_FacRiesgo_Cerc_a_puertos_medianDEP', 'Prob_FacRiesgo_Acceso_a_servicios_de_diagnostico', 'Nvl_FacRiesgo_Acceso_a_servicios_de_diagnostico', 'Prob_FacRiesgo_Acceso_a_servicios_de_diagnostico_medianMUN', 'Prob_FacRiesgo_Acceso_a_servicios_de_diagnostico_medianDEP', 'Prob_FacRiesgo_Acceso_a_Servicios_Veterinarios', 'Nvl_FacRiesgo_Acceso_a_Servicios_Veterinarios', 'Prob_FacRiesgo_Acceso_a_Servicios_Veterinarios_medianMUN', 'Prob_FacRiesgo_Acceso_a_Servicios_Veterinarios_medianDEP', 'Prob_FacRiesgo_Existencia_de_la_Enfermedad', 'Nvl_FacRiesgo_Existencia_de_la_Enfermedad', 'Prob_FacRiesgo_Existencia_de_la_Enfermedad_medianMUN', 'Prob_FacRiesgo_Existencia_de_la_Enfermedad_medianDEP', 'Prob_FacRiesgo_Existencia_de_Vacunacion', 'Nvl_FacRiesgo_Existencia_de_Vacunacion', 'Prob_FacRiesgo_Existencia_de_Vacunacion_medianMUN', 'Prob_FacRiesgo_Existencia_de_Vacunacion_medianDEP', 'Prob_FacRiesgo_Movilizacion_de_personas_en_el_territorio_nacional', 'Nvl_FacRiesgo_Movilizacion_de_personas_en_el_territorio_nacional', 'Prob_FacRiesgo_Movilizacion_de_personas_en_el_territorio_nacional_medianMUN', 'Prob_FacRiesgo_Movilizacion_de_personas_en_el_territorio_nacional_medianDEP', 'Prob_FacRiesgo_Moviliza_de_productos', 'Nvl_FacRiesgo_Moviliza_de_productos', 'Prob_FacRiesgo_Moviliza_de_productos_medianMUN', 'Prob_FacRiesgo_Moviliza_de_productos_medianDEP', 'Prob_FacRiesgo_Densidad_de_animales_en_levante_y_ceba_en_granjas_porcinas', 'Nvl_FacRiesgo_Densidad_de_animales_en_levante_y_ceba_en_granjas_porcinas', 'Prob_FacRiesgo_Densidad_de_animales_en_levante_y_ceba_en_granjas_porcinas_medianMUN', 'Prob_FacRiesgo_Densidad_de_animales_en_levante_y_ceba_en_granjas_porcinas_medianDEP', 'Prob_FacRiesgo_Densidad_de_granjas_de_produccion_comercial_tecnificada_vs_granjas_produccon_porcina', 'Nvl_FacRiesgo_Densidad_de_granjas_de_produccion_comercial_tecnificada_vs_granjas_produccon_porcina', 'Prob_FacRiesgo_Densidad_de_granjas_de_produccion_comercial_tecnificada_vs_granjas_produccon_porcina_medianMUN', 'Prob_FacRiesgo_Densidad_de_granjas_de_produccion_comercial_tecnificada_vs_granjas_produccon_porcina_medianDEP', 'Prob_FacRiesgo_Densidad_de_granjas_de_produccion_de_cria', 'Nvl_FacRiesgo_Densidad_de_granjas_de_produccion_de_cria', 'Prob_FacRiesgo_Densidad_de_granjas_de_produccion_de_cria_medianMUN', 'Prob_FacRiesgo_Densidad_de_granjas_de_produccion_de_cria_medianDEP', 'Prob_FacRiesgo_Densidad_de_granjas_de_produccion_de_levante_y_ceba', 'Nvl_FacRiesgo_Densidad_de_granjas_de_produccion_de_levante_y_ceba', 'Prob_FacRiesgo_Densidad_de_granjas_de_produccion_de_levante_y_ceba_medianMUN', 'Prob_FacRiesgo_Densidad_de_granjas_de_produccion_de_levante_y_ceba_medianDEP', 'Prob_FacRiesgo_Densidad_de_granjas_de_produccion_Familiar_vs_granjas_produccon_porcina', 'Nvl_FacRiesgo_Densidad_de_granjas_de_produccion_Familiar_vs_granjas_produccon_porcina', 'Prob_FacRiesgo_Densidad_de_granjas_de_produccion_Familiar_vs_granjas_produccon_porcina_medianMUN', 'Prob_FacRiesgo_Densidad_de_granjas_de_produccion_Familiar_vs_granjas_produccon_porcina_medianDEP', 'Prob_FacRiesgo_Densidad_de_hembras_de_cria_en_granjas_porcinas', 'Nvl_FacRiesgo_Densidad_de_hembras_de_cria_en_granjas_porcinas', 'Prob_FacRiesgo_Densidad_de_hembras_de_cria_en_granjas_porcinas_medianMUN', 'Prob_FacRiesgo_Densidad_de_hembras_de_cria_en_granjas_porcinas_medianDEP']"
   ]
  },
  {
   "cell_type": "code",
   "execution_count": 15,
   "id": "b788eaed",
   "metadata": {
    "scrolled": true
   },
   "outputs": [
    {
     "name": "stdout",
     "output_type": "stream",
     "text": [
      "Index(['NOM_DEP', 'DPTOMPIO', 'NOMB_MPIO', 'Prob_Cat_Bioseguridad',\n",
      "       'Nvl_Cat_Bioseguridad', 'Prob_Cat_Bioseguridad_medianMUN',\n",
      "       'Prob_Cat_Bioseguridad_medianDEP',\n",
      "       'Prob_Cat_Entorno_Biofisico_Ambiental',\n",
      "       'Nvl_Cat_Entorno_Biofisico_Ambiental',\n",
      "       'Prob_Cat_Entorno_Biofisico_Ambiental_medianMUN',\n",
      "       ...\n",
      "       'Prob_FacRiesgo_Densidad_de_granjas_de_produccion_de_levante_y_ceba_medianMUN',\n",
      "       'Prob_FacRiesgo_Densidad_de_granjas_de_produccion_de_levante_y_ceba_medianDEP',\n",
      "       'Prob_FacRiesgo_Densidad_de_granjas_de_produccion_Familiar_vs_granjas_produccon_porcina',\n",
      "       'Nvl_FacRiesgo_Densidad_de_granjas_de_produccion_Familiar_vs_granjas_produccon_porcina',\n",
      "       'Prob_FacRiesgo_Densidad_de_granjas_de_produccion_Familiar_vs_granjas_produccon_porcina_medianMUN',\n",
      "       'Prob_FacRiesgo_Densidad_de_granjas_de_produccion_Familiar_vs_granjas_produccon_porcina_medianDEP',\n",
      "       'Prob_FacRiesgo_Densidad_de_hembras_de_cria_en_granjas_porcinas',\n",
      "       'Nvl_FacRiesgo_Densidad_de_hembras_de_cria_en_granjas_porcinas',\n",
      "       'Prob_FacRiesgo_Densidad_de_hembras_de_cria_en_granjas_porcinas_medianMUN',\n",
      "       'Prob_FacRiesgo_Densidad_de_hembras_de_cria_en_granjas_porcinas_medianDEP'],\n",
      "      dtype='object', length=191)\n"
     ]
    }
   ],
   "source": [
    "\n",
    "print(table1.columns)"
   ]
  },
  {
   "cell_type": "markdown",
   "id": "43c657ac",
   "metadata": {},
   "source": [
    "## 2. Usamos la tabla excel que tiene  los departamentos separados para separar la tabla de la enfermedad cargada anteriormente\n"
   ]
  },
  {
   "cell_type": "code",
   "execution_count": 8,
   "id": "8cd764ab",
   "metadata": {},
   "outputs": [],
   "source": [
    "TablaDptos=pd.read_excel('MUNICIPIOS_CADA_DEPTO.xls', converters={'Código Municipio': str})\n"
   ]
  },
  {
   "cell_type": "code",
   "execution_count": 9,
   "id": "1d12c4e4",
   "metadata": {},
   "outputs": [],
   "source": [
    "df_sheets=pd.ExcelFile('MUNICIPIOS_CADA_DEPTO.xls')\n"
   ]
  },
  {
   "cell_type": "code",
   "execution_count": 10,
   "id": "20aa6df4",
   "metadata": {},
   "outputs": [],
   "source": [
    "df_sheets.sheet_names;\n"
   ]
  },
  {
   "cell_type": "code",
   "execution_count": 11,
   "id": "82f28bc7",
   "metadata": {},
   "outputs": [],
   "source": [
    "workbook=\"MUNICIPIOS_CADA_DEPTO.xls\""
   ]
  },
  {
   "cell_type": "markdown",
   "id": "952fb946",
   "metadata": {},
   "source": [
    "## Generamos un json para cada depto. En la ultima linea debe modificar el nombre de la enferemdad que esta actualizando: para este ejemplo tenemos  en particular \"_Circovirosis_prob_y_niveles.json\"  "
   ]
  },
  {
   "cell_type": "code",
   "execution_count": 14,
   "id": "f231f7e6",
   "metadata": {},
   "outputs": [],
   "source": [
    "for elem in df_sheets.sheet_names:\n",
    "    df = pd.read_excel(workbook, sheet_name=elem, converters={\"Código Municipio\": str})\n",
    "    #print(df.columns)\n",
    "    if len(df.columns)>4 :\n",
    "        print(elem)\n",
    "    df.columns=['DPTOCODE','DPTOMPIO', 'Nombre Departamento', 'Nombre Municipio']\n",
    "    df=df.merge(table1,on = 'DPTOMPIO' ,how = 'inner')\n",
    "   \n",
    "    #for col in df.columns:\n",
    "        #print(col)\n",
    "          \n",
    "          \n",
    "          \n",
    "    #df.to_excel(f\"{elem}_Circovirosis_prob_y_niveles.xlsx\")  \n",
    "    df.to_json(f\"{elem}_Circovirosis_prob_y_niveles.json\", orient=\"records\", force_ascii=False)\n",
    "       \n",
    "    \n",
    "   \n",
    "   \n",
    "    "
   ]
  }
 ],
 "metadata": {
  "kernelspec": {
   "display_name": "Python 3 (ipykernel)",
   "language": "python",
   "name": "python3"
  },
  "language_info": {
   "codemirror_mode": {
    "name": "ipython",
    "version": 3
   },
   "file_extension": ".py",
   "mimetype": "text/x-python",
   "name": "python",
   "nbconvert_exporter": "python",
   "pygments_lexer": "ipython3",
   "version": "3.9.12"
  }
 },
 "nbformat": 4,
 "nbformat_minor": 5
}
